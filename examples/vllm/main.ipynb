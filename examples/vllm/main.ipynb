{
 "cells": [
  {
   "cell_type": "markdown",
   "metadata": {},
   "source": [
    "# Benchmark vLLM Server with inference-perf"
   ]
  },
  {
   "cell_type": "markdown",
   "metadata": {},
   "source": [
    "### Local vLLM Setup using docker"
   ]
  },
  {
   "cell_type": "markdown",
   "metadata": {},
   "source": [
    "Run vLLM Server as a docker container with the model HuggingFace `HuggingFaceTB/SmolLM2-135M-Instruct`"
   ]
  },
  {
   "cell_type": "code",
   "execution_count": 1,
   "metadata": {},
   "outputs": [
    {
     "name": "stdout",
     "output_type": "stream",
     "text": [
      "Creating network \"vllm_default\" with the default driver\n",
      "Creating vllm_prometheus_1 ... \n",
      "Creating vllm_vllm-server_1 ... \n",
      "\u001b[1Bting vllm_vllm-server_1 ... \u001b[32mdone\u001b[0m\u001b[1A\u001b[2K"
     ]
    }
   ],
   "source": [
    "!docker-compose up -d"
   ]
  },
  {
   "cell_type": "markdown",
   "metadata": {},
   "source": [
    "**Note**: Configure [vLLM engine arguments](https://docs.vllm.ai/en/latest/serving/engine_args.html#engine-args) like `--max-model-len` and  `--max-num-seqs` according to local compute capacity"
   ]
  },
  {
   "cell_type": "markdown",
   "metadata": {},
   "source": [
    "### Benchmark with inference_perf"
   ]
  },
  {
   "cell_type": "markdown",
   "metadata": {},
   "source": [
    "Create a configuration file for the test using `shareGPT` data and run the constant rate test for `30s`. You can also use any of the other data generators like `random`, `shared-prefix` or `synthetic` with their own configuration using the corresponding `config-*.yml` file instead."
   ]
  },
  {
   "cell_type": "code",
   "execution_count": 2,
   "metadata": {},
   "outputs": [
    {
     "name": "stdout",
     "output_type": "stream",
     "text": [
      "data:\n",
      "  type: shareGPT\n",
      "load:\n",
      "  type: constant\n",
      "  stages:\n",
      "  - rate: 1\n",
      "    duration: 30\n",
      "api: \n",
      "  type: chat\n",
      "server:\n",
      "  type: vllm\n",
      "  model_name: HuggingFaceTB/SmolLM2-135M-Instruct\n",
      "  base_url: http://0.0.0.0:8000"
     ]
    }
   ],
   "source": [
    "!cat config.yml"
   ]
  },
  {
   "cell_type": "code",
   "execution_count": 3,
   "metadata": {},
   "outputs": [
    {
     "name": "stdout",
     "output_type": "stream",
     "text": [
      "None of PyTorch, TensorFlow >= 2.0, or Flax have been found. Models won't be available and only tokenizers, configuration and file/data utilities can be used.\n",
      "2025-08-21 11:19:23,388 - inference_perf.config - INFO - Using configuration from: config.yml\n",
      "2025-08-21 11:19:23,390 - inference_perf.config - INFO - Benchmarking with the following config:\n",
      "\n",
      "api:\n",
      "  type: chat\n",
      "  streaming: false\n",
      "data:\n",
      "  type: shareGPT\n",
      "  path: null\n",
      "  input_distribution: null\n",
      "  output_distribution: null\n",
      "  shared_prefix: null\n",
      "load:\n",
      "  type: constant\n",
      "  interval: 1.0\n",
      "  stages:\n",
      "  - rate: 1\n",
      "    duration: 30\n",
      "  num_workers: 20\n",
      "  worker_max_concurrency: 100\n",
      "  worker_max_tcp_connections: 2500\n",
      "metrics: null\n",
      "report:\n",
      "  request_lifecycle:\n",
      "    summary: true\n",
      "    per_stage: true\n",
      "    per_request: false\n",
      "  prometheus:\n",
      "    summary: true\n",
      "    per_stage: false\n",
      "storage:\n",
      "  local_storage:\n",
      "    path: reports-20250821-111923\n",
      "    report_file_prefix: null\n",
      "  google_cloud_storage: null\n",
      "  simple_storage_service: null\n",
      "server:\n",
      "  type: vllm\n",
      "  model_name: HuggingFaceTB/SmolLM2-135M-Instruct\n",
      "  base_url: http://0.0.0.0:8000\n",
      "tokenizer: null\n",
      "\n",
      "\n",
      "2025-08-21 11:19:23,390 - inference_perf.client.filestorage.local - INFO - Report files will be stored at: reports-20250821-111923\n",
      "2025-08-21 11:19:40,057 - inference_perf.loadgen.load_generator - INFO - Stage 0 - run started\n",
      "2025-08-21 11:20:12,116 - inference_perf.loadgen.load_generator - INFO - Stage 0 - run completed\n",
      "2025-08-21 11:20:12,121 - inference_perf.reportgen.base - INFO - Generating Reports...\n",
      "2025-08-21 11:20:12,129 - inference_perf.reportgen.base - WARNING - Prometheus Metrics Client is not configured or not of type PrometheusMetricsClient\n",
      "2025-08-21 11:20:12,130 - inference_perf.client.filestorage.local - INFO - Report saved to: reports-20250821-111923/summary_lifecycle_metrics.json\n",
      "2025-08-21 11:20:12,130 - inference_perf.client.filestorage.local - INFO - Report saved to: reports-20250821-111923/stage_0_lifecycle_metrics.json\n"
     ]
    }
   ],
   "source": [
    "!inference-perf --config_file config.yml"
   ]
  },
  {
   "cell_type": "markdown",
   "metadata": {},
   "source": [
    "View benchmark metrics in the reports folder created."
   ]
  },
  {
   "cell_type": "markdown",
   "metadata": {},
   "source": [
    "### Cleanup"
   ]
  },
  {
   "cell_type": "markdown",
   "metadata": {},
   "source": [
    "Delete vLLM Server docker processes"
   ]
  },
  {
   "cell_type": "code",
   "execution_count": 4,
   "metadata": {},
   "outputs": [
    {
     "name": "stdout",
     "output_type": "stream",
     "text": [
      "Stopping vllm_vllm-server_1 ... \n",
      "Stopping vllm_prometheus_1  ... \n",
      "\u001b[2BRemoving vllm_vllm-server_1 ... mdone\u001b[0m\u001b[2A\u001b[2K\n",
      "Removing vllm_prometheus_1  ... \n",
      "\u001b[2BRemoving network vllm_default[32mdone\u001b[0m\n"
     ]
    }
   ],
   "source": [
    "!docker-compose down"
   ]
  }
 ],
 "metadata": {
  "kernelspec": {
   "display_name": ".venv",
   "language": "python",
   "name": "python3"
  },
  "language_info": {
   "codemirror_mode": {
    "name": "ipython",
    "version": 3
   },
   "file_extension": ".py",
   "mimetype": "text/x-python",
   "name": "python",
   "nbconvert_exporter": "python",
   "pygments_lexer": "ipython3",
   "version": "3.12.3"
  }
 },
 "nbformat": 4,
 "nbformat_minor": 2
}
